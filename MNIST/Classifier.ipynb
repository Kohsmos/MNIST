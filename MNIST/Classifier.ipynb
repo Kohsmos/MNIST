{
 "cells": [
  {
   "cell_type": "code",
   "execution_count": 236,
   "id": "8eacbf2a-8bc2-48fc-9c10-7e12e2e2c3fd",
   "metadata": {},
   "outputs": [],
   "source": [
    "import numpy as np\n",
    "import sys\n",
    "import os\n",
    "from array import array\n",
    "\n",
    "from struct import *\n",
    "import matplotlib\n",
    "import matplotlib.pyplot as plt\n",
    "import matplotlib.cm as cm\n",
    "import pickle\n",
    "import torch\n",
    "from tqdm import tqdm\n",
    "from random import shuffle"
   ]
  },
  {
   "cell_type": "code",
   "execution_count": 291,
   "id": "6ea22c9d-017f-45de-8d9f-52eaac43c604",
   "metadata": {},
   "outputs": [],
   "source": [
    "#파일 읽기\n",
    "fp_image = open('./dataset/train-images-idx3-ubyte','rb')\n",
    "fp_label = open('./dataset/train-labels-idx1-ubyte','rb')\n",
    "\n",
    "#사용할 변수 초기화\n",
    "img = np.zeros((28,28)) #이미지가 저장될 부분\n",
    "lbl = [ [],[],[],[],[],[],[],[],[],[] ] #숫자별로 저장 (0 ~ 9)\n",
    "d = 0\n",
    "l = 0\n",
    "index=0\n",
    "\n",
    "s = fp_image.read(16)    #read first 16byte\n",
    "l = fp_label.read(8)     #read first  8byte\n",
    "\n",
    "k=0 #테스트용 index\n",
    "#read mnist and show number\n",
    "while True:    \n",
    "    s = fp_image.read(784) #784바이트씩 읽음\n",
    "    l = fp_label.read(1) #1바이트씩 읽음\n",
    "    if not s:break\n",
    "    if not l:break\n",
    "    index = int(l[0])\n",
    "\n",
    "    img = np.reshape(unpack(len(s)*'B',s), (28,28))\n",
    "    lbl[index].append(img) #각 숫자영역별로 해당이미지를 추가\n",
    "    k=k+1\n",
    "    \n",
    "# https://m.blog.naver.com/PostView.naver?isHttpsRedirect=true&blogId=acwboy&logNo=220584307823"
   ]
  },
  {
   "cell_type": "code",
   "execution_count": 151,
   "id": "6923330a-6d7b-473c-8499-15bf38605cd8",
   "metadata": {},
   "outputs": [],
   "source": [
    "class Model(torch.nn.Module):\n",
    "    def __init__(self):\n",
    "        super(Model, self).__init__()\n",
    "        self.conv = torch.nn.Sequential(\n",
    "            torch.nn.Conv2d(1, 4, kernel_size=4, padding = 2),\n",
    "            torch.nn.ReLU(inplace=True),\n",
    "            torch.nn.MaxPool2d(kernel_size = 4, stride = 2, padding=2),\n",
    "            torch.nn.Conv2d(4,16, kernel_size=2, padding=1),\n",
    "            torch.nn.ReLU(inplace=True),\n",
    "            torch.nn.MaxPool2d(kernel_size=2, stride = 1, padding=1),\n",
    "            torch.nn.AdaptiveAvgPool2d((6,6))\n",
    "        )\n",
    "        self.classifier = torch.nn.Sequential(\n",
    "            torch.nn.Dropout(0.5),\n",
    "            torch.nn.Linear(16*6*6, 512),\n",
    "            torch.nn.ReLU(inplace=True),\n",
    "            torch.nn.Dropout(0.5),\n",
    "            torch.nn.Linear(512, 512),\n",
    "            torch.nn.ReLU(inplace=True),\n",
    "            torch.nn.Linear(512,10)\n",
    "        )\n",
    "    def forward(self, x):\n",
    "        x = self.conv(x)\n",
    "        x = torch.flatten(x,1)\n",
    "        x = self.classifier(x)\n",
    "        return x"
   ]
  },
  {
   "cell_type": "code",
   "execution_count": 146,
   "id": "8a4d80e1-984e-460c-8771-ee6afacafb3d",
   "metadata": {},
   "outputs": [],
   "source": [
    "model = Model()"
   ]
  },
  {
   "cell_type": "code",
   "execution_count": 234,
   "id": "a2ee8e33-927d-4089-9ddc-20cb47d2581b",
   "metadata": {},
   "outputs": [],
   "source": [
    "data = []\n",
    "X = []\n",
    "Y = []\n",
    "\n",
    "for i,l in enumerate(lbl):\n",
    "    for ll in l:\n",
    "        data.append([ll.reshape(1,ll.shape[0], ll.shape[1]), i])\n",
    "\n",
    "shuffle(data)\n",
    "\n",
    "X = [d[0].reshape(1,28,28) for d in data]\n",
    "Y = [d[1] for d in data]"
   ]
  },
  {
   "cell_type": "code",
   "execution_count": 263,
   "id": "048d8482-b789-4240-ac80-f99839d218d8",
   "metadata": {},
   "outputs": [],
   "source": [
    "optimizer = torch.optim.Adam(params = model.parameters(), lr = 1e-3)\n",
    "scheduler = torch.optim.lr_scheduler.CosineAnnealingWarmRestarts(optimizer, T_0 = 128)\n",
    "criterion = torch.nn.CrossEntropyLoss()"
   ]
  },
  {
   "cell_type": "code",
   "execution_count": 264,
   "id": "2ed33756-40f6-4c7d-b523-d64a9e556d28",
   "metadata": {},
   "outputs": [],
   "source": [
    "batch_size = 64\n",
    "batch_num = int((len(data)-1)/batch_size) + 1"
   ]
  },
  {
   "cell_type": "code",
   "execution_count": 265,
   "id": "45778d91-53bc-4d75-afed-e90b6196508f",
   "metadata": {},
   "outputs": [
    {
     "name": "stderr",
     "output_type": "stream",
     "text": [
      "100%|████████████████████████████████████████████████████████████████████████████████| 938/938 [00:13<00:00, 71.05it/s]\n"
     ]
    },
    {
     "name": "stdout",
     "output_type": "stream",
     "text": [
      "2.005300014003762\n"
     ]
    },
    {
     "name": "stderr",
     "output_type": "stream",
     "text": [
      "100%|████████████████████████████████████████████████████████████████████████████████| 938/938 [00:13<00:00, 70.47it/s]\n"
     ]
    },
    {
     "name": "stdout",
     "output_type": "stream",
     "text": [
      "1.324746534260097\n"
     ]
    },
    {
     "name": "stderr",
     "output_type": "stream",
     "text": [
      "100%|████████████████████████████████████████████████████████████████████████████████| 938/938 [00:13<00:00, 70.19it/s]\n"
     ]
    },
    {
     "name": "stdout",
     "output_type": "stream",
     "text": [
      "1.032169866250522\n"
     ]
    },
    {
     "name": "stderr",
     "output_type": "stream",
     "text": [
      "100%|████████████████████████████████████████████████████████████████████████████████| 938/938 [00:13<00:00, 69.67it/s]\n"
     ]
    },
    {
     "name": "stdout",
     "output_type": "stream",
     "text": [
      "0.6171224903005527\n"
     ]
    },
    {
     "name": "stderr",
     "output_type": "stream",
     "text": [
      "100%|████████████████████████████████████████████████████████████████████████████████| 938/938 [00:13<00:00, 69.34it/s]\n"
     ]
    },
    {
     "name": "stdout",
     "output_type": "stream",
     "text": [
      "0.5124112150308165\n"
     ]
    },
    {
     "name": "stderr",
     "output_type": "stream",
     "text": [
      "100%|████████████████████████████████████████████████████████████████████████████████| 938/938 [00:13<00:00, 69.04it/s]\n"
     ]
    },
    {
     "name": "stdout",
     "output_type": "stream",
     "text": [
      "0.44336513481509965\n"
     ]
    },
    {
     "name": "stderr",
     "output_type": "stream",
     "text": [
      "100%|████████████████████████████████████████████████████████████████████████████████| 938/938 [00:13<00:00, 68.88it/s]\n"
     ]
    },
    {
     "name": "stdout",
     "output_type": "stream",
     "text": [
      "0.39246926782354874\n"
     ]
    },
    {
     "name": "stderr",
     "output_type": "stream",
     "text": [
      "100%|████████████████████████████████████████████████████████████████████████████████| 938/938 [00:13<00:00, 68.91it/s]\n"
     ]
    },
    {
     "name": "stdout",
     "output_type": "stream",
     "text": [
      "0.35921418059990606\n"
     ]
    },
    {
     "name": "stderr",
     "output_type": "stream",
     "text": [
      "100%|████████████████████████████████████████████████████████████████████████████████| 938/938 [00:13<00:00, 69.18it/s]\n"
     ]
    },
    {
     "name": "stdout",
     "output_type": "stream",
     "text": [
      "0.32940851597548293\n"
     ]
    },
    {
     "name": "stderr",
     "output_type": "stream",
     "text": [
      "100%|████████████████████████████████████████████████████████████████████████████████| 938/938 [00:13<00:00, 69.11it/s]\n"
     ]
    },
    {
     "name": "stdout",
     "output_type": "stream",
     "text": [
      "0.31755775817310505\n"
     ]
    },
    {
     "name": "stderr",
     "output_type": "stream",
     "text": [
      "100%|████████████████████████████████████████████████████████████████████████████████| 938/938 [00:13<00:00, 68.88it/s]\n"
     ]
    },
    {
     "name": "stdout",
     "output_type": "stream",
     "text": [
      "0.3103772703168997\n"
     ]
    },
    {
     "name": "stderr",
     "output_type": "stream",
     "text": [
      "100%|████████████████████████████████████████████████████████████████████████████████| 938/938 [00:13<00:00, 69.21it/s]\n"
     ]
    },
    {
     "name": "stdout",
     "output_type": "stream",
     "text": [
      "0.29563705762550396\n"
     ]
    },
    {
     "name": "stderr",
     "output_type": "stream",
     "text": [
      "100%|████████████████████████████████████████████████████████████████████████████████| 938/938 [00:13<00:00, 69.16it/s]\n"
     ]
    },
    {
     "name": "stdout",
     "output_type": "stream",
     "text": [
      "0.2845963091373062\n"
     ]
    },
    {
     "name": "stderr",
     "output_type": "stream",
     "text": [
      "100%|████████████████████████████████████████████████████████████████████████████████| 938/938 [00:13<00:00, 68.82it/s]\n"
     ]
    },
    {
     "name": "stdout",
     "output_type": "stream",
     "text": [
      "0.27696078676960745\n"
     ]
    },
    {
     "name": "stderr",
     "output_type": "stream",
     "text": [
      "100%|████████████████████████████████████████████████████████████████████████████████| 938/938 [00:13<00:00, 68.94it/s]\n"
     ]
    },
    {
     "name": "stdout",
     "output_type": "stream",
     "text": [
      "0.26938121076792415\n"
     ]
    },
    {
     "name": "stderr",
     "output_type": "stream",
     "text": [
      "100%|████████████████████████████████████████████████████████████████████████████████| 938/938 [00:13<00:00, 69.25it/s]"
     ]
    },
    {
     "name": "stdout",
     "output_type": "stream",
     "text": [
      "0.2579324093939208\n"
     ]
    },
    {
     "name": "stderr",
     "output_type": "stream",
     "text": [
      "\n"
     ]
    }
   ],
   "source": [
    "model.train()\n",
    "for epoch in range(16):\n",
    "    losses = []\n",
    "    for batch in tqdm(range(batch_num)):\n",
    "        batch_X = torch.tensor(X[batch*batch_size:(batch+1)*batch_size])\n",
    "        batch_Y = torch.tensor(Y[batch*batch_size:(batch+1)*batch_size])\n",
    "        pred = model(batch_X.float())\n",
    "        loss = criterion(pred, batch_Y)\n",
    "        losses.append(loss.item())\n",
    "        optimizer.zero_grad()\n",
    "        loss.backward()\n",
    "        optimizer.step()\n",
    "        scheduler.step(epoch + batch/batch_num)\n",
    "    print(np.mean(losses))"
   ]
  },
  {
   "cell_type": "code",
   "execution_count": 266,
   "id": "da7e6aea-93d1-453b-ae73-5cd72e00ca5d",
   "metadata": {},
   "outputs": [
    {
     "data": {
      "text/plain": [
       "<matplotlib.collections.PathCollection at 0x22f8f378eb0>"
      ]
     },
     "execution_count": 266,
     "metadata": {},
     "output_type": "execute_result"
    },
    {
     "data": {
      "image/png": "[encoded data removed]",
      "text/plain": [
       "<Figure size 432x288 with 1 Axes>"
      ]
     },
     "metadata": {
      "needs_background": "light"
     },
     "output_type": "display_data"
    }
   ],
   "source": [
    "plt.scatter([i for i in range(len(losses))], losses, s= 0.5)"
   ]
  },
  {
   "cell_type": "code",
   "execution_count": 275,
   "id": "820930df-6543-483a-87dc-d9a7b4116099",
   "metadata": {},
   "outputs": [
    {
     "data": {
      "text/plain": [
       "5"
      ]
     },
     "execution_count": 275,
     "metadata": {},
     "output_type": "execute_result"
    }
   ],
   "source": [
    "model.eval()\n",
    "torch.argmax(model(torch.tensor(X[2].reshape(1,1,28,28)).float())).item()"
   ]
  },
  {
   "cell_type": "code",
   "execution_count": 274,
   "id": "0ab8b722-3eaa-4442-a07e-27c61e34df6a",
   "metadata": {},
   "outputs": [
    {
     "data": {
      "text/plain": [
       "<matplotlib.image.AxesImage at 0x22fa43aaac0>"
      ]
     },
     "execution_count": 274,
     "metadata": {},
     "output_type": "execute_result"
    },
    {
     "data": {
      "image/png": "[encoded data removed]",
      "text/plain": [
       "<Figure size 432x288 with 1 Axes>"
      ]
     },
     "metadata": {
      "needs_background": "light"
     },
     "output_type": "display_data"
    }
   ],
   "source": [
    "plt.imshow(X[2][0])"
   ]
  },
  {
   "cell_type": "code",
   "execution_count": 276,
   "id": "2364e50e-fac6-4ea2-bc47-824363c61adc",
   "metadata": {},
   "outputs": [
    {
     "data": {
      "text/plain": [
       "8"
      ]
     },
     "execution_count": 276,
     "metadata": {},
     "output_type": "execute_result"
    }
   ],
   "source": [
    "Y[0]"
   ]
  },
  {
   "cell_type": "code",
   "execution_count": 278,
   "id": "01aa5ba4-1624-472d-9e04-772bf5c41e36",
   "metadata": {},
   "outputs": [
    {
     "name": "stderr",
     "output_type": "stream",
     "text": [
      "100%|██████████████████████████████████████████████████████████████████████████| 60000/60000 [00:19<00:00, 3009.13it/s]\n"
     ]
    }
   ],
   "source": [
    "scr = 0\n",
    "for i in tqdm(range(60000)):\n",
    "    scr += torch.argmax(model(torch.tensor(X[i].reshape(1,1,28,28)).float())).item()==Y[i]"
   ]
  },
  {
   "cell_type": "code",
   "execution_count": 280,
   "id": "d8414960-715d-4657-bd50-5c5e2872f00d",
   "metadata": {},
   "outputs": [
    {
     "data": {
      "text/plain": [
       "0.9667333333333333"
      ]
     },
     "execution_count": 280,
     "metadata": {},
     "output_type": "execute_result"
    }
   ],
   "source": [
    "scr/60000"
   ]
  },
  {
   "cell_type": "code",
   "execution_count": 285,
   "id": "b60c02aa-20b4-452d-822c-868119ca81bb",
   "metadata": {},
   "outputs": [],
   "source": [
    "#파일 읽기\n",
    "fp_image = open('./dataset/t10k-images-idx3-ubyte','rb')\n",
    "fp_label = open('./dataset/t10k-labels-idx1-ubyte','rb')\n",
    "\n",
    "#사용할 변수 초기화\n",
    "img = np.zeros((28,28)) #이미지가 저장될 부분\n",
    "lbl = [ [],[],[],[],[],[],[],[],[],[] ] #숫자별로 저장 (0 ~ 9)\n",
    "d = 0\n",
    "l = 0\n",
    "index=0\n",
    "\n",
    "s = fp_image.read(16)    #read first 16byte\n",
    "l = fp_label.read(8)     #read first  8byte\n",
    "\n",
    "k=0 #테스트용 index\n",
    "#read mnist and show number\n",
    "while True:    \n",
    "    s = fp_image.read(784) #784바이트씩 읽음\n",
    "    l = fp_label.read(1) #1바이트씩 읽음\n",
    "    if not s:break\n",
    "    if not l:break\n",
    "    index = int(l[0])\n",
    "\n",
    "    img = np.reshape(unpack(len(s)*'B',s), (28,28))\n",
    "    lbl[index].append(img) #각 숫자영역별로 해당이미지를 추가\n",
    "    k=k+1"
   ]
  },
  {
   "cell_type": "code",
   "execution_count": 283,
   "id": "5fb27456-01e7-463d-8ad7-50f25cbdd3b3",
   "metadata": {},
   "outputs": [],
   "source": [
    "with open(\"./dataset/train_X.pickle\", mode=\"wb\") as f:pickle.dump(X,f)"
   ]
  },
  {
   "cell_type": "code",
   "execution_count": 284,
   "id": "6632f775-6a23-4011-bf82-67177f48fe7a",
   "metadata": {},
   "outputs": [],
   "source": [
    "with open(\"./dataset/train_Y.pickle\", mode=\"wb\") as f:pickle.dump(Y,f)"
   ]
  },
  {
   "cell_type": "code",
   "execution_count": 286,
   "id": "7043a0a2-01ea-447c-b573-8686cc20c3ce",
   "metadata": {},
   "outputs": [],
   "source": [
    "_data = []\n",
    "_X = []\n",
    "_Y = []\n",
    "\n",
    "for i,l in enumerate(lbl):\n",
    "    for ll in l:\n",
    "        _data.append([ll.reshape(1,ll.shape[0], ll.shape[1]), i])\n",
    "\n",
    "shuffle(_data)\n",
    "\n",
    "_X = [d[0].reshape(1,28,28) for d in _data]\n",
    "_Y = [d[1] for d in _data]"
   ]
  },
  {
   "cell_type": "code",
   "execution_count": 288,
   "id": "01204ec1-c986-40de-9908-650a2596ffab",
   "metadata": {},
   "outputs": [
    {
     "data": {
      "text/plain": [
       "10000"
      ]
     },
     "execution_count": 288,
     "metadata": {},
     "output_type": "execute_result"
    }
   ],
   "source": [
    "len(_Y)"
   ]
  },
  {
   "cell_type": "code",
   "execution_count": 289,
   "id": "53c0f70c-9051-49cd-804c-efa540336842",
   "metadata": {},
   "outputs": [
    {
     "name": "stderr",
     "output_type": "stream",
     "text": [
      "100%|██████████████████████████████████████████████████████████████████████████| 10000/10000 [00:03<00:00, 2981.82it/s]\n"
     ]
    }
   ],
   "source": [
    "scr = 0\n",
    "for i in tqdm(range(10000)):\n",
    "    scr += torch.argmax(model(torch.tensor(_X[i].reshape(1,1,28,28)).float())).item()==_Y[i]"
   ]
  },
  {
   "cell_type": "code",
   "execution_count": 290,
   "id": "f445039a-f354-4cfc-a3c2-2afb10769b6a",
   "metadata": {},
   "outputs": [
    {
     "data": {
      "text/plain": [
       "9654"
      ]
     },
     "execution_count": 290,
     "metadata": {},
     "output_type": "execute_result"
    }
   ],
   "source": [
    "scr"
   ]
  },
  {
   "cell_type": "code",
   "execution_count": null,
   "id": "d84dff55-6f13-4492-b73c-9e7e80454bd5",
   "metadata": {},
   "outputs": [],
   "source": []
  }
 ],
 "metadata": {
  "kernelspec": {
   "display_name": "Python 3 (ipykernel)",
   "language": "python",
   "name": "python3"
  },
  "language_info": {
   "codemirror_mode": {
    "name": "ipython",
    "version": 3
   },
   "file_extension": ".py",
   "mimetype": "text/x-python",
   "name": "python",
   "nbconvert_exporter": "python",
   "pygments_lexer": "ipython3",
   "version": "3.9.0"
  }
 },
 "nbformat": 4,
 "nbformat_minor": 5
}
